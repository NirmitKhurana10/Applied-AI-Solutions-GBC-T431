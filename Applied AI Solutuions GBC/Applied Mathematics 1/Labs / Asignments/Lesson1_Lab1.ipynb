{
 "cells": [
  {
   "cell_type": "markdown",
   "id": "c4e94930-87d7-4104-89ec-01803bc402a9",
   "metadata": {},
   "source": [
    "# Lab Excercise 1"
   ]
  },
  {
   "cell_type": "code",
   "execution_count": 7,
   "id": "84fea275-4068-48da-ad12-737ffed1fbb7",
   "metadata": {},
   "outputs": [],
   "source": [
    "# importing numpy\n",
    "\n",
    "import numpy as np"
   ]
  },
  {
   "cell_type": "code",
   "execution_count": 32,
   "id": "da85d994",
   "metadata": {},
   "outputs": [
    {
     "name": "stdout",
     "output_type": "stream",
     "text": [
      "Test if all elements of a are non-zero:  False\n"
     ]
    }
   ],
   "source": [
    "# Create a numpy array with the elements \"1, 2, 3, 5, 0\", print the array and test if all of its elements are non-zero.\n",
    "\n",
    "a = np.array([1,2,3,4,5,0])\n",
    "print(\"Test if all elements of a are non-zero: \", a.all())\n",
    "    \n",
    "    \n"
   ]
  },
  {
   "cell_type": "code",
   "execution_count": 31,
   "id": "f09cb0ab",
   "metadata": {},
   "outputs": [
    {
     "name": "stdout",
     "output_type": "stream",
     "text": [
      "Test if all elements of b are non-zero:  False\n"
     ]
    }
   ],
   "source": [
    "# Create a numpy array with the elements \"0, 0, 0, 0\", print the array and test if any of its elements is non-zero.\n",
    "\n",
    "b = np.array([0,0,0,0])\n",
    "print(\"Test if any elements of b are non-zero: \", b.any())\n",
    "\n"
   ]
  },
  {
   "cell_type": "code",
   "execution_count": 23,
   "id": "293307ce",
   "metadata": {},
   "outputs": [
    {
     "name": "stdout",
     "output_type": "stream",
     "text": [
      "The array is [56 -2  7]\n",
      "Item size of array c is:  8\n",
      "Memory size of a is:  24 bits\n"
     ]
    }
   ],
   "source": [
    "# Create a numpy array with the elements \"56, -2, 7\", print the array and the amount of memory required to store it.\n",
    "\n",
    "c = np.array([56, -2, 7])\n",
    "print(\"The array is\", c)\n",
    "print(\"Item size of array c is: \", c.itemsize)   # c.itemsize: the size in bits of each element of the array.\n",
    "print(\"Memory size of a is: \", c.itemsize*c.size, \"bits\")   # c.itemsize: size of the array in bits."
   ]
  },
  {
   "cell_type": "code",
   "execution_count": 24,
   "id": "8ee5f8a7",
   "metadata": {},
   "outputs": [
    {
     "name": "stdout",
     "output_type": "stream",
     "text": [
      "[0. 0. 0. 0. 0. 0. 0. 0. 0. 0.]\n",
      "[1. 1. 1. 1. 1. 1.]\n",
      "[3 3 3 3 3 3 3 3 3 3 3 3]\n"
     ]
    }
   ],
   "source": [
    "# Create a numpy array with 10 zeros and print the array.\n",
    "arr_zeroes = np.zeros(10)\n",
    "print(arr_zeroes)\n",
    "# Create a numpy array with 6 ones and print the array.\n",
    "arr_ones = np.ones(6)\n",
    "print(arr_ones)\n",
    "# Create a numpy array with 12 '3's and print the array. [3 3 3 3 3 3 3 3 3 3 3 3]\n",
    "arr_threes = np.full(12,3)\n",
    "print(arr_threes)"
   ]
  },
  {
   "cell_type": "code",
   "execution_count": 27,
   "id": "e3342387",
   "metadata": {},
   "outputs": [
    {
     "name": "stdout",
     "output_type": "stream",
     "text": [
      "[ 8 12 16 20]\n",
      "[ 8 10 12 14 16 18 20]\n"
     ]
    }
   ],
   "source": [
    "# Create a numpy array of the integers from 8 to 20 and print the array. (make sure 20 itself is included) hint:  use \"arange\" method\n",
    "arr_8to20 = np.arange(8,21,4)\n",
    "print(arr_8to20)\n",
    "\n",
    "# Create a numpy array of the even integers from 8 to 20 and print the array. (make sure 20 itself is included)   hint:  use \"arange\" method\n",
    "arr_even = np.arange(8,21,2)\n",
    "print(arr_even)"
   ]
  },
  {
   "cell_type": "code",
   "execution_count": 112,
   "id": "ed319edf",
   "metadata": {},
   "outputs": [
    {
     "name": "stdout",
     "output_type": "stream",
     "text": [
      "The mean is 2.0126783233007814\n",
      "The standard deviation is 0.48270845647737914\n",
      "The size of the array is 100\n",
      "The max element in the array is:  3.2982824965606117\n",
      "The min element in the array is:  0.8478725814035359\n",
      "\n",
      "\n",
      "The mean is 2.0068505327130075\n",
      "The standard deviation is 0.5128387873835273\n",
      "The size of the array is 1000\n",
      "The max element in the array is:  3.5211429783956634\n",
      "The min element in the array is:  0.16935268971520756\n",
      "\n",
      "\n",
      "The mean is 2.000312362279965\n",
      "The standard deviation is 0.49989186483185805\n",
      "The size of the array is 1000000\n",
      "The max element in the array is:  4.302225692915572\n",
      "The min element in the array is:  -0.718658838986074\n",
      "1. Sample Size and Mean:\n",
      "Consistency: As the sample size increases, the sample mean tends to get closer to the theoretical mean of the normal distribution. This is due to the Law of Large Numbers, which states that as the number of observations increases, the sample mean will converge to the true mean.\n",
      "Example Observation: With smaller sample sizes (e.g., 1,000 or 5,000), you might see the sample mean varying more from the theoretical mean (e.g., 2). With larger sample sizes (e.g., 10,000), the sample mean will generally be closer to 2.\n",
      "2. Sample Size and Standard Deviation:\n",
      "Consistency: Similarly, the sample standard deviation will approximate the theoretical standard deviation (e.g., 0.5) more closely as the sample size increases. This is also influenced by the Law of Large Numbers, which ensures that the sample standard deviation gets closer to the population standard deviation with larger samples.\n",
      "Example Observation: For smaller sample sizes, the sample standard deviation might show more variation from the theoretical standard deviation. As the sample size grows, the sample standard deviation will more closely match the theoretical standard deviation.\n"
     ]
    }
   ],
   "source": [
    "# Create a numpy array consisting of 100 random elements from normal distribution with mean of 2 and std of 0.5. Print the mean, max, min and std of the array.\n",
    "mean = 2\n",
    "std = 0.5\n",
    "sizeArray = 100\n",
    "random_array = np.random.normal(mean, std, sizeArray)\n",
    "print(\"The mean is\", np.mean(random_array))\n",
    "print(\"The standard deviation is\", np.std(random_array))\n",
    "print(\"The size of the array is\", np.size(random_array))\n",
    "print(\"The max element in the array is: \", random_array.max())\n",
    "print(\"The min element in the array is: \", random_array.min())\n",
    "\n",
    "print()\n",
    "print()\n",
    "\n",
    "# Create a numpy array consisting of 1000 random elements from normal distribution with mean of 2 and std of 0.5. Print the mean, max, min and std of the array.\n",
    "\n",
    "mean = 2\n",
    "std = 0.5\n",
    "sizeArray = 1000\n",
    "random_array_2 = np.random.normal(mean, std, sizeArray)\n",
    "print(\"The mean is\", np.mean(random_array_2))\n",
    "print(\"The standard deviation is\", np.std(random_array_2))\n",
    "print(\"The size of the array is\", np.size(random_array_2))\n",
    "print(\"The max element in the array is: \", random_array_2.max())\n",
    "print(\"The min element in the array is: \", random_array_2.min())\n",
    "\n",
    "\n",
    "# Create a numpy array consisting of 1000000 random elements from normal distribution with mean of 2 and std of 0.5. Print the mean, max, min and std of the array.\n",
    "\n",
    "print()\n",
    "print()\n",
    "\n",
    "\n",
    "mean = 2\n",
    "std = 0.5\n",
    "sizeArray = 1000000\n",
    "random_array_3 = np.random.normal(mean, std, sizeArray)\n",
    "print(\"The mean is\", np.mean(random_array_3))\n",
    "print(\"The standard deviation is\", np.std(random_array_3))\n",
    "print(\"The size of the array is\", np.size(random_array_3))\n",
    "print(\"The max element in the array is: \", random_array_3.max())\n",
    "print(\"The min element in the array is: \", random_array_3.min())\n",
    "\n",
    "# (Bonus question) Looking at the three above examples with 1000, 5000, and 10000 random elements, do you have any observations about mean and std values?\n",
    "\n",
    "print()\n",
    "print()\n",
    "\n",
    "print('''1. Sample Size and Mean:\n",
    "Consistency: As the sample size increases, the sample mean tends to get closer to the theoretical mean of the normal distribution. This is due to the Law of Large Numbers, which states that as the number of observations increases, the sample mean will converge to the true mean.\n",
    "Example Observation: With smaller sample sizes (e.g., 1,000 or 5,000), you might see the sample mean varying more from the theoretical mean (e.g., 2). With larger sample sizes (e.g., 10,000), the sample mean will generally be closer to 2.\n",
    "2. Sample Size and Standard Deviation:\n",
    "Consistency: Similarly, the sample standard deviation will approximate the theoretical standard deviation (e.g., 0.5) more closely as the sample size increases. This is also influenced by the Law of Large Numbers, which ensures that the sample standard deviation gets closer to the population standard deviation with larger samples.\n",
    "Example Observation: For smaller sample sizes, the sample standard deviation might show more variation from the theoretical standard deviation. As the sample size grows, the sample standard deviation will more closely match the theoretical standard deviation.''')"
   ]
  },
  {
   "cell_type": "markdown",
   "id": "fc49635e",
   "metadata": {},
   "source": []
  },
  {
   "cell_type": "markdown",
   "id": "3f6cf113",
   "metadata": {},
   "source": []
  }
 ],
 "metadata": {
  "kernelspec": {
   "display_name": "Python 3 (ipykernel)",
   "language": "python",
   "name": "python3"
  },
  "language_info": {
   "codemirror_mode": {
    "name": "ipython",
    "version": 3
   },
   "file_extension": ".py",
   "mimetype": "text/x-python",
   "name": "python",
   "nbconvert_exporter": "python",
   "pygments_lexer": "ipython3",
   "version": "3.12.4"
  }
 },
 "nbformat": 4,
 "nbformat_minor": 5
}
